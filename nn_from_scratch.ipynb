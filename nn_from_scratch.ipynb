{
 "cells": [
  {
   "cell_type": "markdown",
   "id": "3bf93189",
   "metadata": {},
   "source": [
    "# Materials:  "
   ]
  },
  {
   "cell_type": "markdown",
   "id": "8c82e5ad",
   "metadata": {},
   "source": [
    "1. https://www.kaggle.com/code/wwsalmon/simple-mnist-nn-from-scratch-numpy-no-tf-keras/notebook  \n",
    "2. https://www.youtube.com/watch?v=URJ9pP1aURo&t=1130s  \n",
    "3. https://medium.com/analytics-vidhya/neural-network-mnist-classifier-from-scratch-using-numpy-library-94bbcfed7eae  \n",
    "4. https://www.youtube.com/watch?v=w8yWXqWQYmU"
   ]
  },
  {
   "cell_type": "markdown",
   "id": "74b94680",
   "metadata": {},
   "source": [
    "# Data and libs"
   ]
  },
  {
   "cell_type": "code",
   "execution_count": 1,
   "id": "db2f887c",
   "metadata": {
    "scrolled": true
   },
   "outputs": [],
   "source": [
    "import pandas as pd\n",
    "import numpy as np \n",
    "from keras.datasets import mnist"
   ]
  },
  {
   "cell_type": "code",
   "execution_count": 2,
   "id": "f648dd5a",
   "metadata": {
    "scrolled": false
   },
   "outputs": [],
   "source": [
    "(train_X, train_y), (test_X, test_y) = mnist.load_data()"
   ]
  },
  {
   "cell_type": "code",
   "execution_count": 3,
   "id": "171c7dc3",
   "metadata": {
    "scrolled": true
   },
   "outputs": [
    {
     "name": "stdout",
     "output_type": "stream",
     "text": [
      " Train type: <class 'numpy.ndarray'>\n",
      " Train shape: (60000, 28, 28)\n",
      " Train type: <class 'numpy.ndarray'>\n",
      " Train shape: (10000, 28, 28)\n",
      " Train target shape: (60000,)\n",
      " Train unique values: {0, 1, 2, 3, 4, 5, 6, 7, 8, 9}\n"
     ]
    }
   ],
   "source": [
    "print(\n",
    "    f' Train type: {type(train_X)}\\n',\n",
    "    f'Train shape: {train_X.shape}\\n',\n",
    "    f'Train type: {type(test_X)}\\n',\n",
    "    f'Train shape: {test_X.shape}\\n', \n",
    "    f'Train target shape: {train_y.shape}\\n',\n",
    "    f'Train unique values: {set(train_y)}'\n",
    ")"
   ]
  },
  {
   "cell_type": "markdown",
   "id": "b9e21800",
   "metadata": {},
   "source": [
    "# Functions"
   ]
  },
  {
   "cell_type": "code",
   "execution_count": 4,
   "id": "f85c25a8",
   "metadata": {},
   "outputs": [],
   "source": [
    "def batch_preparation(batch, max_val = 255): \n",
    "    '''flatten 28*28 image to 728*1\n",
    "       and \n",
    "       devide on maximum value\n",
    "           return: (len batch) x (len sample of batch)\n",
    "    '''\n",
    "    prep_batch = batch.reshape(len(batch), 784) / max_val\n",
    "    return prep_batch\n",
    "\n",
    "\n",
    "def test_batch_preparation(test_batch): \n",
    "    '''Test batch_preparation'''\n",
    "    l,r,c = test_batch.shape\n",
    "    prep_batch = batch_preparation(test_batch)\n",
    "    assert prep_batch.shape[0] == l, 'Wrong number of elements in batch'\n",
    "    assert prep_batch.shape[1] == r * c, 'Wrong size of flatten matrix'\n",
    "    assert (prep_batch <=1).all(), 'Batch is not normalized'\n",
    "    return 1"
   ]
  },
  {
   "cell_type": "code",
   "execution_count": 5,
   "id": "72063092",
   "metadata": {
    "scrolled": false
   },
   "outputs": [
    {
     "name": "stdout",
     "output_type": "stream",
     "text": [
      "(2, 784)\n"
     ]
    },
    {
     "data": {
      "text/plain": [
       "1"
      ]
     },
     "execution_count": 5,
     "metadata": {},
     "output_type": "execute_result"
    }
   ],
   "source": [
    "print(batch_preparation(train_X[:2]).shape)\n",
    "test_batch_preparation(train_X[:2])"
   ]
  },
  {
   "cell_type": "code",
   "execution_count": 6,
   "id": "e22dd64c",
   "metadata": {},
   "outputs": [],
   "source": [
    "def init_params(input_size = 784, l1_size = 10, l2_size = 10): \n",
    "    W1 = np.random.rand(l1_size, input_size) - 0.5\n",
    "    b1 = np.random.rand(l1_size, 1) - 0.5\n",
    "    W2 = np.random.rand(l2_size, l1_size) - 0.5\n",
    "    b2 = np.random.rand(l2_size, 1) - 0.5\n",
    "    return W1, b1, W2, b2"
   ]
  },
  {
   "cell_type": "code",
   "execution_count": 7,
   "id": "669d956f",
   "metadata": {},
   "outputs": [],
   "source": [
    "def ReLU(x):\n",
    "    return np.maximum(x,0)\n",
    "\n",
    "def dReLU(x): \n",
    "    return 1 * (x > 0)\n",
    "\n",
    "def softmax(x): \n",
    "    return np.exp(x)/np.sum(np.exp(x), axis=0)"
   ]
  },
  {
   "cell_type": "code",
   "execution_count": 8,
   "id": "265f9dab",
   "metadata": {},
   "outputs": [],
   "source": [
    "def forward_prop(W1, b1, W2, b2, X): \n",
    "    # input len of one sample = 784\n",
    "    # m = batch len\n",
    "    # X: m x 784\n",
    "    # X.T: 784 x m\n",
    "    # W1: l1 x 784\n",
    "    \n",
    "    Z1 = W1.dot(X.T) + b1 # (l1 x 784) x (784 x m) = (l1 x m)\n",
    "    A1 = ReLU(Z1) # (10 x m)\n",
    "    Z2 = W2.dot(A1) + b2  # (l2 x l1) x (l1 x m) = (l2 x m)\n",
    "    A2 = softmax(Z2) # (l2 x m)\n",
    "    return Z1, A1, Z2, A2"
   ]
  },
  {
   "cell_type": "code",
   "execution_count": 9,
   "id": "ea838b84",
   "metadata": {},
   "outputs": [],
   "source": [
    "def test_forward_prop(batch, l1_size = 10, l2_size = 10): \n",
    "    ''''''\n",
    "    # input data:\n",
    "    prep_batch = batch_preparation(batch).T\n",
    "    num_samples = prep_batch.shape[1]\n",
    "    tW1, tb1, tW2, tb2 = init_params()\n",
    "    \n",
    "    # First layer (Z1: l1_size x num_samples)\n",
    "    tZ1 = tW1.dot(prep_batch) + tb1\n",
    "    assert tZ1.shape == (l1_size, num_samples), 'Error on first layer'\n",
    "    print(f'Shape after Z1 layer:{tZ1.shape}')\n",
    "    #print(tZ1)\n",
    "    \n",
    "    # First activation(tA1 ~ Z1: l1_size x num_samples)\n",
    "    tA1 = ReLU(tZ1)\n",
    "    assert tA1.shape == tZ1.shape, 'Error on first activation'\n",
    "    assert (tA1 >= 0).all(), 'There are negative values after ReLU'\n",
    "    #print(tA1, tA1.shape)\n",
    "    \n",
    "    # Z2 (l2_size x m)\n",
    "    tZ2 = tW2.dot(tA1) + tb2\n",
    "    assert tZ2.shape == (l2_size, num_samples), 'Error on second layer'\n",
    "    print(f'Shape after Z2 layer:{tZ2.shape}')\n",
    "    #print(tZ2)\n",
    "    \n",
    "    # tA2 ~ Z2 (l2_size x m)\n",
    "    return tZ2\n",
    "    tA2 = softmax(tZ2)\n",
    "    assert tZ2.shape == (l2_size, num_samples), 'Error on second activation'\n",
    "    assert np.allclose(np.sum(tA2[0:,]),tA2.shape[1]), 'Error with softmax'\n",
    "    return 1"
   ]
  },
  {
   "cell_type": "code",
   "execution_count": 10,
   "id": "f0df3f39",
   "metadata": {
    "scrolled": true
   },
   "outputs": [
    {
     "name": "stdout",
     "output_type": "stream",
     "text": [
      "Shape after Z1 layer:(10, 2)\n",
      "Shape after Z2 layer:(10, 2)\n"
     ]
    }
   ],
   "source": [
    "t = test_forward_prop(train_X[:2])"
   ]
  },
  {
   "cell_type": "code",
   "execution_count": 11,
   "id": "3d44fd58",
   "metadata": {},
   "outputs": [],
   "source": [
    "def ohe_target(x):\n",
    "    ''''''\n",
    "    return np.array(\n",
    "        [[0 if i != j else 1 for i in range(10)] for j in x]).T"
   ]
  },
  {
   "cell_type": "code",
   "execution_count": 12,
   "id": "8c4faa02",
   "metadata": {
    "scrolled": true
   },
   "outputs": [
    {
     "name": "stdout",
     "output_type": "stream",
     "text": [
      "[[0 0 0]\n",
      " [0 0 1]\n",
      " [0 1 0]\n",
      " [1 0 0]\n",
      " [0 0 0]\n",
      " [0 0 0]\n",
      " [0 0 0]\n",
      " [0 0 0]\n",
      " [0 0 0]\n",
      " [0 0 0]]\n"
     ]
    }
   ],
   "source": [
    "# check ohe_target\n",
    "t = ohe_target([3,2,1])\n",
    "print(t)\n",
    "del t"
   ]
  },
  {
   "cell_type": "code",
   "execution_count": 13,
   "id": "319cea31",
   "metadata": {},
   "outputs": [],
   "source": [
    "def backward_prop(Z1, A1, Z2, A2, W1, W2, X, Y):\n",
    "    ''''''\n",
    "    \n",
    "    ohe_y = ohe_target(Y) # l2 x m\n",
    "    batch_size = len(X) # == m\n",
    "    \n",
    "    dZ2 = A2 - ohe_y # l2 x m\n",
    "    dW2 = (1/batch_size) * dZ2.dot(A1.T) # const * (l2 x m) x (m xl2)= l2 x l2\n",
    "    db2 = (1/batch_size) * np.sum(dZ2, axis=1).reshape(10,1) # (l2 x 1)\n",
    "    \n",
    "    dZ1 = W2.T.dot(dZ2)  * dReLU(Z1) # (l1xl2) x (l2 x m) * (l1 x m)\n",
    "    dW1 = (1/batch_size) * dZ2.dot(X) # (l2 x m) x (m x 784)\n",
    "    db1 = (1/batch_size) * np.sum(dZ1, axis=1).reshape(10,1) #l2 x 1\n",
    "    return dW1, db1, dW2, db2"
   ]
  },
  {
   "cell_type": "code",
   "execution_count": 14,
   "id": "f26970ac",
   "metadata": {},
   "outputs": [],
   "source": [
    "def batch_cross_entropy_loss(forward_outputs, targets):\n",
    "    ''''''\n",
    "    ohe_targets = ohe_target(targets)\n",
    "    cross_entropy = (1/len(targets)) * np.sum(forward_outputs * ohe_targets)\n",
    "    return -cross_entropy"
   ]
  },
  {
   "cell_type": "code",
   "execution_count": 15,
   "id": "355c96d8",
   "metadata": {},
   "outputs": [],
   "source": [
    "def update_nn_params(W1, b1, W2, b2, dW1, db1, dW2, db2, lr= 0.01):\n",
    "    ''''''\n",
    "    W1 = W1 - lr * dW1\n",
    "    b1 = b1 - lr * db1\n",
    "    W2 = W2 - lr * dW2\n",
    "    b2 = b2 - lr * db2\n",
    "    return W1, b1, W2, b2"
   ]
  },
  {
   "cell_type": "code",
   "execution_count": 16,
   "id": "4ef40ac9",
   "metadata": {},
   "outputs": [],
   "source": [
    "def generate_batch_indexes(data_size, batch_size):\n",
    "    '''generate indexes to get randomly batchs of images'''\n",
    "    a = np.array(range(data_size))\n",
    "    np.random.shuffle(a)\n",
    "    for n in range(data_size//batch_size):\n",
    "        yield a[batch_size*n:batch_size*(n+1)]\n",
    "        \n",
    "def test_generate_batch_indexes():\n",
    "    return generate_batch_indexes(1000, 30)"
   ]
  },
  {
   "cell_type": "code",
   "execution_count": 17,
   "id": "88168029",
   "metadata": {},
   "outputs": [],
   "source": [
    "def plot_digit(x):\n",
    "    '''plot one digit'''\n",
    "    plt.imshow(x)\n",
    "    plt.show()"
   ]
  },
  {
   "cell_type": "code",
   "execution_count": 18,
   "id": "d14acefc",
   "metadata": {},
   "outputs": [],
   "source": [
    "def zero_grad(dW1, db1, dW2, db2):\n",
    "    return np.zeros_like(dW1), np.zeros_like(db1), np.zeros_like(dW2), np.zeros_like(db2)"
   ]
  },
  {
   "cell_type": "code",
   "execution_count": 19,
   "id": "0b954c22",
   "metadata": {},
   "outputs": [],
   "source": [
    "def get_predictions(A2):\n",
    "    return np.argmax(A2, 0)\n",
    "\n",
    "def get_accuracy(predictions, Y):\n",
    "    return np.sum(predictions == Y) / Y.size"
   ]
  },
  {
   "cell_type": "markdown",
   "id": "679a209a",
   "metadata": {},
   "source": [
    "# Train, predict and plot results"
   ]
  },
  {
   "cell_type": "code",
   "execution_count": 20,
   "id": "21720c5f",
   "metadata": {},
   "outputs": [],
   "source": [
    "from tqdm.notebook import tqdm\n",
    "import matplotlib.pyplot as plt\n",
    "from IPython.display import clear_output"
   ]
  },
  {
   "cell_type": "code",
   "execution_count": 21,
   "id": "b26223c3",
   "metadata": {},
   "outputs": [
    {
     "name": "stdout",
     "output_type": "stream",
     "text": [
      "Epoch number: 50/50\n",
      "Score on train : 0.90\n",
      "Score on test : 0.90\n"
     ]
    },
    {
     "data": {
      "image/png": "[encoded data removed]",
      "text/plain": [
       "<Figure size 432x288 with 1 Axes>"
      ]
     },
     "metadata": {
      "needs_background": "light"
     },
     "output_type": "display_data"
    }
   ],
   "source": [
    "n_epochs = 50\n",
    "lr = 5e-3, \n",
    "\n",
    "batch_size = 100\n",
    "num_samples = len(train_X)\n",
    "\n",
    "# init models params:\n",
    "W1, b1, W2, b2 = init_params()\n",
    "\n",
    "w1_shape = W1.shape\n",
    "b1_shape = b1.shape\n",
    "\n",
    "loss_li = []\n",
    "for epoch in range(n_epochs):\n",
    "        \n",
    "    shuffled_inxes = generate_batch_indexes(num_samples, batch_size)\n",
    "    for n, ind in enumerate(shuffled_inxes):\n",
    "\n",
    "        # get batch:\n",
    "        batch = train_X[ind]\n",
    "        batch = batch_preparation(batch)\n",
    "\n",
    "        # get targets:\n",
    "        targets = train_y[ind]\n",
    "\n",
    "        # calc forward pass:\n",
    "        Z1, A1, Z2, A2 = forward_prop(\n",
    "            W1, b1, W2, b2, batch)\n",
    "\n",
    "        # calculate loss: \n",
    "        loss = batch_cross_entropy_loss(A2, targets)\n",
    "\n",
    "        # save loss: \n",
    "        if n % 10 == 0:\n",
    "            loss_li.append(loss)\n",
    "\n",
    "        # calc backward propagation: \n",
    "        dW1, db1, dW2, db2 = backward_prop(\n",
    "            Z1, A1, Z2, A2, W1, W2, batch, targets)\n",
    "\n",
    "        # update nn params: \n",
    "        W1, b1, W2, b2 = update_nn_params(\n",
    "            W1, b1, W2, b2, dW1, db1, dW2, db2, lr)\n",
    "        \n",
    "        # check shapes:\n",
    "        assert W1.shape == w1_shape, 'Wrong W1 shape'\n",
    "        assert b1_shape == b1.shape, 'Wrong b1 shape'\n",
    "        \n",
    "        # zero gradients: \n",
    "        dW1, db1, dW2, db2 = zero_grad(dW1, db1, dW2, db2)\n",
    "    \n",
    "    data_types = ['train', 'test']\n",
    "    data_li = [train_X, test_X]\n",
    "    targets_li = [train_y, test_y]\n",
    "    \n",
    "    print(f'Epoch number: {epoch + 1}/{n_epochs}')\n",
    "    \n",
    "    for type_, data_, targets_ in zip(data_types, data_li, targets_li):\n",
    "        _, _, _, curA2 = forward_prop(\n",
    "            W1, b1, W2, b2, batch_preparation(data_))\n",
    "        preds_ = get_predictions(curA2)\n",
    "        score_ = get_accuracy(preds_, targets_)\n",
    "        print(f'Score on {type_} : {score_:.2f}')\n",
    "    \n",
    "    plt.plot(loss_li)\n",
    "    plt.title('Cost function:')\n",
    "    plt.ylabel('- 1/m * Sum(Error_i)')\n",
    "    plt.xlabel('n_iter')\n",
    "    plt.show()\n",
    "    clear_output(True)"
   ]
  }
 ],
 "metadata": {
  "kernelspec": {
   "display_name": "work_env",
   "language": "python",
   "name": "work_env"
  },
  "language_info": {
   "codemirror_mode": {
    "name": "ipython",
    "version": 3
   },
   "file_extension": ".py",
   "mimetype": "text/x-python",
   "name": "python",
   "nbconvert_exporter": "python",
   "pygments_lexer": "ipython3",
   "version": "3.8.9"
  }
 },
 "nbformat": 4,
 "nbformat_minor": 5
}
